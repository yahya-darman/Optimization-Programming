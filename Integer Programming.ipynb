{
 "cells": [
  {
   "cell_type": "markdown",
   "id": "8b32b3ac",
   "metadata": {},
   "source": [
    "# Integer Programming Example using Python and PuLP\n",
    "\n",
    "Integer programming is a mathematical optimization technique where the objective function and decision variables are constrained to be integers. It is used to solve optimization problems where the solutions must be whole numbers.\n",
    "\n",
    "In this Jupyter Notebook, I showcase an example of situation where integer programming can be applied and how we can use the Python library PuLP to optimize the results."
   ]
  },
  {
   "cell_type": "markdown",
   "id": "41078805",
   "metadata": {},
   "source": [
    "## Schedule Planning\n",
    "\n",
    "A use case of integer programming is in schedule planning. Let's say a Post Office needs to determine the optimal number of fulltime postmen and postwomen required for different days of the week, subject to the constraint that each fulltime employee must work 5 consecutive days and rest for 2 days.\n",
    "\n",
    "##  Post Office Example\n",
    "\n",
    "To solve this problem using integer programming, we can define decision variables that represent the number of fulltime postmen and postwomen required for each day of the week. We can then define an objective function that minimizes the total number of fulltime employees required to meet the daily demand. The constraints of the problem will be to ensure that the total number of postmen and postwomen required for each day is greater than or equal to the demand for that day and that each fulltime employee must work 5 consecutive days and rest for 2 days."
   ]
  },
  {
   "cell_type": "markdown",
   "id": "ac4b25d6",
   "metadata": {},
   "source": [
    "### Decision variables:\n",
    "\n",
    "$X_{1}$ = No. of fulltime postmen/women who must start their 5-day shift on Mondays \\\n",
    "$X_{2}$ = No. of fulltime postmen/women who must start their 5-day shift on Tuesdays \\\n",
    "$X_{3}$ = No. of fulltime postmen/women who must start their 5-day shift on Wednesdays\\\n",
    "$X_{4}$ = No. of fulltime postmen/women who must start their 5-day shift on Thursdays\\\n",
    "$X_{5}$ = No. of fulltime postmen/women who must start their 5-day shift on Fridays \\\n",
    "$X_{6}$ = No. of fulltime postmen/women who must start their 5-day shift on Saturdays \\\n",
    "$X_{7}$ = No. of fulltime postmen/women who must start their 5-day shift on Sundays."
   ]
  },
  {
   "cell_type": "markdown",
   "id": "a6a40d64",
   "metadata": {},
   "source": [
    "### Objective Function:\n",
    "\n",
    "Min $z= X_{1} + X_{2} + X_{3} + X_{4} + X_{5} + X_{6}+ X_{7}$"
   ]
  },
  {
   "cell_type": "markdown",
   "id": "c0a568af",
   "metadata": {},
   "source": [
    "### Constraints:\n",
    "\n",
    "the required Workers from Monday to Sunday sequentially changed to: 15, 14, 15, 16, 14, 15, 14 \\\n",
    "$X_{1}+X_{2}+X_{3}+X_{4}+X_{5}\\ge 14$\\\n",
    "$X_{2}+X_{3}+X_{4}+X_{5}+X_{6}\\ge 15$\\\n",
    "$X_{3}+X_{4}+X_{5}+X_{6}+X_{7}\\ge 14$\\\n",
    "$X_{4}+X_{5}+X_{6}+X_{7}+X_{1}\\ge 15$\\\n",
    "$X_{5}+X_{6}+X_{7}+X_{1}+X_{2}\\ge 14$\\\n",
    "$X_{6}+X_{7}+X_{1}+X_{2}+X_{3}\\ge 15$\\\n",
    "$X_{7}+X_{1}+X_{2}+X_{3}+X_{4}\\ge 16$"
   ]
  },
  {
   "cell_type": "code",
   "execution_count": 7,
   "id": "1aaec421",
   "metadata": {},
   "outputs": [
    {
     "name": "stdout",
     "output_type": "stream",
     "text": [
      "Requirement already satisfied: pulp in /opt/anaconda3/lib/python3.9/site-packages (2.7.0)\n",
      "Note: you may need to restart the kernel to use updated packages.\n"
     ]
    }
   ],
   "source": [
    "%pip install pulp"
   ]
  },
  {
   "cell_type": "code",
   "execution_count": 10,
   "id": "38c138eb",
   "metadata": {},
   "outputs": [
    {
     "name": "stdout",
     "output_type": "stream",
     "text": [
      "Welcome to the CBC MILP Solver \n",
      "Version: 2.10.3 \n",
      "Build Date: Dec 15 2019 \n",
      "\n",
      "command line - /opt/anaconda3/lib/python3.9/site-packages/pulp/solverdir/cbc/osx/64/cbc /var/folders/wv/g8ky2d_n3zdb2h3xxtpxtclw0000gn/T/088803030a774a4898e82a07e5f0001e-pulp.mps sec 300 timeMode elapsed branch printingOptions all solution /var/folders/wv/g8ky2d_n3zdb2h3xxtpxtclw0000gn/T/088803030a774a4898e82a07e5f0001e-pulp.sol (default strategy 1)\n",
      "At line 2 NAME          MODEL\n",
      "At line 3 ROWS\n",
      "At line 13 COLUMNS\n",
      "At line 77 RHS\n",
      "At line 86 BOUNDS\n",
      "At line 94 ENDATA\n",
      "Problem MODEL has 8 rows, 7 columns and 42 elements\n",
      "Coin0008I MODEL read with 0 errors\n",
      "seconds was changed from 1e+100 to 300\n",
      "Option for timeMode changed from cpu to elapsed\n",
      "Continuous objective value is 20.6 - 0.00 seconds\n",
      "Cgl0004I processed model has 8 rows, 7 columns (7 integer (0 of which binary)) and 42 elements\n",
      "Cutoff increment increased from 1e-05 to 0.9999\n",
      "Cbc0012I Integer solution of 21 found by DiveCoefficient after 0 iterations and 0 nodes (0.00 seconds)\n",
      "Cbc0001I Search completed - best objective 21, took 0 iterations and 0 nodes (0.00 seconds)\n",
      "Cbc0035I Maximum depth 0, 0 variables fixed on reduced cost\n",
      "Cuts at root node changed objective from 20.6 to 20.6\n",
      "Probing was tried 0 times and created 0 cuts of which 0 were active after adding rounds of cuts (0.000 seconds)\n",
      "Gomory was tried 0 times and created 0 cuts of which 0 were active after adding rounds of cuts (0.000 seconds)\n",
      "Knapsack was tried 0 times and created 0 cuts of which 0 were active after adding rounds of cuts (0.000 seconds)\n",
      "Clique was tried 0 times and created 0 cuts of which 0 were active after adding rounds of cuts (0.000 seconds)\n",
      "MixedIntegerRounding2 was tried 0 times and created 0 cuts of which 0 were active after adding rounds of cuts (0.000 seconds)\n",
      "FlowCover was tried 0 times and created 0 cuts of which 0 were active after adding rounds of cuts (0.000 seconds)\n",
      "TwoMirCuts was tried 0 times and created 0 cuts of which 0 were active after adding rounds of cuts (0.000 seconds)\n",
      "ZeroHalf was tried 0 times and created 0 cuts of which 0 were active after adding rounds of cuts (0.000 seconds)\n",
      "\n",
      "Result - Optimal solution found\n",
      "\n",
      "Objective value:                21.00000000\n",
      "Enumerated nodes:               0\n",
      "Total iterations:               0\n",
      "Time (CPU seconds):             0.00\n",
      "Time (Wallclock seconds):       0.01\n",
      "\n",
      "Option for printingOptions changed from normal to all\n",
      "Total time (CPU seconds):       0.00   (Wallclock seconds):       0.01\n",
      "\n",
      "Status:  Optimal\n",
      "Number of fulltime employees starting on Mondays:  1\n",
      "Number of fulltime employees starting on Tuesdays:  4\n",
      "Number of fulltime employees starting on Wednesdays:  3\n",
      "Number of fulltime employees starting on Thursdays:  3\n",
      "Number of fulltime employees starting on Fridays:  3\n",
      "Number of fulltime employees starting on Saturdays:  2\n",
      "Number of fulltime employees starting on Sundays:  5\n",
      "Total number of fulltime employees:  21\n"
     ]
    }
   ],
   "source": [
    "import pulp\n",
    "\n",
    "# Create the problem\n",
    "prob = pulp.LpProblem(\"Post Office Scheduling\", pulp.LpMinimize)\n",
    "\n",
    "# Decision variables\n",
    "X1 = pulp.LpVariable(\"X1\", lowBound=0, cat='Integer')\n",
    "X2 = pulp.LpVariable(\"X2\", lowBound=0, cat='Integer')\n",
    "X3 = pulp.LpVariable(\"X3\", lowBound=0, cat='Integer')\n",
    "X4 = pulp.LpVariable(\"X4\", lowBound=0, cat='Integer')\n",
    "X5 = pulp.LpVariable(\"X5\", lowBound=0, cat='Integer')\n",
    "X6 = pulp.LpVariable(\"X6\", lowBound=0, cat='Integer')\n",
    "X7 = pulp.LpVariable(\"X7\", lowBound=0, cat='Integer')\n",
    "\n",
    "# Objective function\n",
    "prob += X1 + X2 + X3 + X4 + X5 + X6 + X7, \"Total number of fulltime employees\"\n",
    "\n",
    "# Constraints\n",
    "prob += X1 + X4 + X5 + X6 + X7 >= 14, \"Monday requirement\"\n",
    "prob += X1 + X2 + X5 + X6 + X7 >= 15, \"Tuesday requirement\"\n",
    "prob += X1 + X2 + X3 + X6 + X7 >= 14, \"Wednesday requirement\"\n",
    "prob += X1 + X2 + X3 + X4 + X7 >= 15, \"Thursday requirement\"\n",
    "prob += X1 + X2 + X3 + X4 + X5 >= 14, \"Friday requirement\"\n",
    "prob += X2 + X3 + X4 + X5 + X6 >= 15, \"Saturday requirement\"\n",
    "prob += X3 + X4 + X5 + X6 + X7 >= 16, \"Sunday requirement\"\n",
    "\n",
    "prob += X1 + X2 + X3 + X4 + X5 + X6 + X7 <= 50, \"Total number of employees\"\n",
    "\n",
    "# Solve the problem\n",
    "prob.solve(pulp.PULP_CBC_CMD(maxSeconds=300, msg=1))\n",
    "\n",
    "# Print the solution status\n",
    "print(\"Status: \", pulp.LpStatus[prob.status])\n",
    "\n",
    "# Print the optimized values of the decision variables\n",
    "print(\"Number of fulltime employees starting on Mondays: \", int(X1.value()))\n",
    "print(\"Number of fulltime employees starting on Tuesdays: \", int(X2.value()))\n",
    "print(\"Number of fulltime employees starting on Wednesdays: \", int(X3.value()))\n",
    "print(\"Number of fulltime employees starting on Thursdays: \", int(X4.value()))\n",
    "print(\"Number of fulltime employees starting on Fridays: \", int(X5.value()))\n",
    "print(\"Number of fulltime employees starting on Saturdays: \", int(X6.value()))\n",
    "print(\"Number of fulltime employees starting on Sundays: \", int(X7.value()))\n",
    "\n",
    "# Print the optimized value of the objective function\n",
    "print(\"Total number of fulltime employees: \", int(pulp.value(prob.objective)))"
   ]
  },
  {
   "cell_type": "markdown",
   "id": "66c6de5d",
   "metadata": {},
   "source": [
    "### Results & Conclusion\n",
    "\n",
    "Number of fulltime employees starting on Mondays:  1 \\\n",
    "Number of fulltime employees starting on Tuesdays:  4 \\\n",
    "Number of fulltime employees starting on Wednesdays:  3 \\\n",
    "Number of fulltime employees starting on Thursdays:  3 \\\n",
    "Number of fulltime employees starting on Fridays:  3 \\\n",
    "Number of fulltime employees starting on Saturdays:  2 \\\n",
    "Number of fulltime employees starting on Sundays:  5 \n",
    "\n",
    "Total number of fulltime employees:  21\n",
    "\n",
    "The total number of fulltime employees required to meet the daily requirements while adhering the requirement for each day is greater than or equal to the demand for that day and that each fulltime employee must work 5 consecutive days and rest for 2 days is 21 fulltime employees.\n",
    "\n",
    "Thus, the Post Office needs to have 1 fulltime employees start their 5-day shift on Monday, 4 on Tuesday, 3 on Wednesdays, 3 on Thursdays, 3 on  Friday, 2 on Saturdays, and 7 on Sundays to meet the daily requirements while ensuring that the employees rest for 2 days after a 5-day shift."
   ]
  }
 ],
 "metadata": {
  "kernelspec": {
   "display_name": "Python 3 (ipykernel)",
   "language": "python",
   "name": "python3"
  },
  "language_info": {
   "codemirror_mode": {
    "name": "ipython",
    "version": 3
   },
   "file_extension": ".py",
   "mimetype": "text/x-python",
   "name": "python",
   "nbconvert_exporter": "python",
   "pygments_lexer": "ipython3",
   "version": "3.9.12"
  }
 },
 "nbformat": 4,
 "nbformat_minor": 5
}
