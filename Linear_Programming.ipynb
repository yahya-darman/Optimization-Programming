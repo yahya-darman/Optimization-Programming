{
 "cells": [
  {
   "cell_type": "markdown",
   "id": "1269e4b8",
   "metadata": {},
   "source": [
    "# Linear Programming Example using Python and Scipy\n",
    "\n",
    "Linear programming is a mathematical technique used to optimize a linear objective function subject to linear constraints. There are many real-world situations where linear programming can be applied, such as production planning, transportation, and resource allocation.\n",
    "\n",
    "In this Jupyter Notebook, I showcase an example of situation where linear programming can be applied and how we can use the Python library Scipy to optimize the results."
   ]
  },
  {
   "cell_type": "markdown",
   "id": "3589f146",
   "metadata": {},
   "source": [
    "## Transportation Planning\n",
    "\n",
    "A use case of linear programming is in transportation planning. Let's say we have several warehouses that supply goods to multiple customers. We need to decide how much of each product to transport from each warehouse to each customer, subject to constraints such as transportation capacity and demand. We can use Scipy's `linprog` function to optimize this problem and find the optimal transportation plan."
   ]
  },
  {
   "cell_type": "markdown",
   "id": "38e6eb6b",
   "metadata": {},
   "source": [
    "## Distribution of Air-Conditioning Units\n",
    "\n",
    "Let's consider a North American air-conditioning firm that has production plants in Portland and Flint. The firm needs to supply a certain number of units to its distribution centers located in Los Angeles and Atlanta. The following table shows the delivery costs, supply, and demand for each location:\n",
    "\n",
    "| Location         | Delivery Cost ($/unit) | Supply (units) | Demand (units) |\n",
    "|------------------|-----------------------|----------------|----------------|\n",
    "| Portland         | 2                     | 150            |                |\n",
    "| Flint            | 4                     | 200            |                |\n",
    "| Los Angeles      | 3                     |                |              100 |\n",
    "| Atlanta          | 5                     |                |              150 |\n",
    "\n",
    "Our goal is to minimize the total delivery cost by determining how many units should be delivered from each production plant to each distribution center. We can model this as an integer linear programming problem, where the decision variables are the number of units to be shipped from each plant to each distribution center.\n",
    "\n",
    "Let $X_{ij}$ be the number of units shipped from plant i (Portland or Flint) to distribution center j (Los Angeles or Atlanta). Then, we want to minimize the total delivery cost, which can be expressed as:\n",
    "\n"
   ]
  },
  {
   "cell_type": "markdown",
   "id": "91352350",
   "metadata": {},
   "source": [
    "### Decision variables:\n",
    "$X_{11}$ = Units delivered from Portland to Los Angeles.\\\n",
    "$X_{21}$ = Units delivered from Flint to Los Angeles.\\\n",
    "$X_{12}$ = Units delivered from Portland to Atlanta.\\\n",
    "$X_{22}$ = Units delivered from Flint to Atlanta.\\"
   ]
  },
  {
   "cell_type": "markdown",
   "id": "a3b1148e",
   "metadata": {},
   "source": [
    "### Objective Function:\n",
    "\n",
    "Minimize: $$X_{11} + X_{21} + X_{12} + X_{22}$$"
   ]
  },
  {
   "cell_type": "markdown",
   "id": "1c6c20ef",
   "metadata": {},
   "source": [
    "### Constraints:\n",
    "\n",
    "subject to the following constraints:\n",
    "\n",
    "- Supply constraints: the total number of units shipped from each plant cannot exceed its supply:\n",
    "\n",
    "$$X_{11} + X_{21} <= 150$$\\\n",
    "$$X_{12} + X_{22} <= 200$$\n",
    "\n",
    "- Demand constraints: the total number of units shipped to each distribution center must meet its demand:\n",
    "\n",
    "$$X_{11} + X_{21} >= 100$$\\\n",
    "$$X_{12} + X_{22} >= 150$$\n",
    "\n",
    "- Non-negativity constraints: the number of units shipped cannot be negative:\n",
    "\n",
    "$$X_{11},X_{21},X_{12},X_{22} >= 0$$"
   ]
  },
  {
   "cell_type": "code",
   "execution_count": 2,
   "id": "3204b08f",
   "metadata": {},
   "outputs": [
    {
     "name": "stdout",
     "output_type": "stream",
     "text": [
      "     con: array([], dtype=float64)\n",
      "     fun: 250.0\n",
      " message: 'Optimization terminated successfully.'\n",
      "     nit: 4\n",
      "   slack: array([50., 50.,  0.,  0.,  0.,  0.])\n",
      "  status: 0\n",
      " success: True\n",
      "       x: array([100., 150.,   0.,   0.])\n"
     ]
    }
   ],
   "source": [
    "'''We can use Scipy's `linprog` function to \n",
    "solve this problem. First, we need to transform \n",
    "the problem into standard form by converting the\n",
    "objective function to a maximization problem \n",
    "and adding slack variables to the constraints.\n",
    "Here's the complete code:\n",
    "'''\n",
    "\n",
    "from scipy.optimize import linprog\n",
    "\n",
    "# Objective coefficients\n",
    "c = [1, 1, 1, 1]\n",
    "\n",
    "# Left-hand side matrix of constraints\n",
    "A = [[1, 0, 1, 0],\n",
    "     [0, 1, 0, 1],\n",
    "     [-1, 0, 0, 0],\n",
    "     [0, -1, 0, 0],\n",
    "     [0, 0, -1, 0],\n",
    "     [0, 0, 0, -1]]\n",
    "\n",
    "# Right-hand side vector of constraints\n",
    "b = [150, 200, -100, -150, 0, 0]\n",
    "\n",
    "# Bounds on decision variables\n",
    "bounds = [(0, None), (0, None), (0, None), (0, None)]\n",
    "\n",
    "# Solve the linear programming problem\n",
    "res = linprog(c=c, A_ub=A, b_ub=b, bounds=bounds, method='simplex')\n",
    "\n",
    "# Print the optimal solution\n",
    "print(res)\n",
    "\n"
   ]
  },
  {
   "cell_type": "markdown",
   "id": "1d889733",
   "metadata": {},
   "source": [
    "### Conclusion & Results\n",
    "\n",
    "The output shows the optimal solution, which tells us how many units should be shipped from each plant to each distribution center:\n",
    "\n",
    "$$X_{11} = 100 $$\\\n",
    "$$X_{21} = 150 $$\\\n",
    "$$X_{12} = 0 $$\\\n",
    "$$X_{22} = 0$$\\\n",
    "$$Z = 250 $$\n",
    "\n",
    "\n",
    "100 units from Portland to Los Angeles, \\\n",
    "150 units from Flint to Los Angeles, \\\n",
    "Shipping to Atlanta would not be cost efficent if you are looking to minimize cost. \\\n",
    "Total cost of $250."
   ]
  }
 ],
 "metadata": {
  "kernelspec": {
   "display_name": "Python 3 (ipykernel)",
   "language": "python",
   "name": "python3"
  },
  "language_info": {
   "codemirror_mode": {
    "name": "ipython",
    "version": 3
   },
   "file_extension": ".py",
   "mimetype": "text/x-python",
   "name": "python",
   "nbconvert_exporter": "python",
   "pygments_lexer": "ipython3",
   "version": "3.9.12"
  }
 },
 "nbformat": 4,
 "nbformat_minor": 5
}
